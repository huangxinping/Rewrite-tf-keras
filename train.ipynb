{
 "cells": [
  {
   "cell_type": "code",
   "execution_count": 1,
   "metadata": {
    "ExecuteTime": {
     "end_time": "2022-07-30T15:12:27.051233Z",
     "start_time": "2022-07-30T15:12:18.426298Z"
    }
   },
   "outputs": [
    {
     "name": "stdout",
     "output_type": "stream",
     "text": [
      "2.9.1\n",
      "Eager mode:  True\n",
      "Keras version 2.9.0\n",
      "GPU is available\n"
     ]
    }
   ],
   "source": [
    "import tensorflow as tf\n",
    "import os\n",
    "from pathlib import Path\n",
    "import numpy as np\n",
    "import matplotlib.pyplot as plt\n",
    "\n",
    "from model import Rewrite, RewriteGenerator, RewriteLoss, RewriteModelSaveCheckpoint\n",
    "\n",
    "%matplotlib inline\n",
    "\n",
    "print(tf.__version__)\n",
    "print(\"Eager mode: \", tf.executing_eagerly())\n",
    "print(\"Keras version\", tf.keras.__version__)\n",
    "print(\"GPU is\", \"available\" if tf.config.experimental.list_physical_devices(\"GPU\") else \"NOT AVAILABLE\")"
   ]
  },
  {
   "attachments": {},
   "cell_type": "markdown",
   "metadata": {},
   "source": [
    "# 辅助函数\n",
    "# helper functions"
   ]
  },
  {
   "cell_type": "code",
   "execution_count": 2,
   "metadata": {
    "ExecuteTime": {
     "end_time": "2022-07-30T15:12:27.066133Z",
     "start_time": "2022-07-30T15:12:27.057174Z"
    }
   },
   "outputs": [],
   "source": [
    "def drawing_train_history(model_name, loss):\n",
    "    plt.figure(figsize=(10, 16))\n",
    "    plt.rcParams['figure.figsize'] = [16, 9]\n",
    "    plt.rcParams['font.size'] = 14\n",
    "    plt.rcParams['axes.grid'] = True\n",
    "    plt.rcParams['figure.facecolor'] = 'white'\n",
    "    plt.subplot(2, 1, 2)\n",
    "    plt.plot(loss, label='Generator Loss')\n",
    "    plt.legend(loc='upper right')\n",
    "    plt.ylabel('Cross Entropy')\n",
    "    plt.title(f'{model_name}')\n",
    "    plt.xlabel('epoch')\n",
    "    plt.tight_layout(pad=3.0)"
   ]
  },
  {
   "attachments": {},
   "cell_type": "markdown",
   "metadata": {},
   "source": [
    "# 训练\n",
    "# Training"
   ]
  },
  {
   "cell_type": "code",
   "execution_count": 3,
   "metadata": {
    "ExecuteTime": {
     "end_time": "2022-07-30T15:12:27.082691Z",
     "start_time": "2022-07-30T15:12:27.067180Z"
    }
   },
   "outputs": [],
   "source": [
    "batch_size = 16\n",
    "learning_rate = 0.0001\n",
    "epochs = 1000\n",
    "char_size = 80"
   ]
  },
  {
   "cell_type": "code",
   "execution_count": 4,
   "metadata": {
    "ExecuteTime": {
     "end_time": "2022-07-30T15:12:27.097867Z",
     "start_time": "2022-07-30T15:12:27.082691Z"
    }
   },
   "outputs": [
    {
     "name": "stdout",
     "output_type": "stream",
     "text": [
      "2933 images found in datasets/images\n"
     ]
    }
   ],
   "source": [
    "gen = RewriteGenerator(char_size=char_size,\n",
    "                       batch_size=batch_size,\n",
    "                       images_path='datasets/images')"
   ]
  },
  {
   "cell_type": "code",
   "execution_count": 5,
   "metadata": {
    "ExecuteTime": {
     "end_time": "2022-07-30T15:12:29.316737Z",
     "start_time": "2022-07-30T15:12:27.101848Z"
    }
   },
   "outputs": [],
   "source": [
    "model = Rewrite(char_size=char_size)\n",
    "model.compile(loss=RewriteLoss(char_size=char_size), optimizer=tf.keras.optimizers.Adam(learning_rate=learning_rate, amsgrad=True))\n",
    "if os.path.exists('rewrite.h5'):\n",
    "    model.load_weights('rewrite.h5')"
   ]
  },
  {
   "cell_type": "code",
   "execution_count": 6,
   "metadata": {
    "ExecuteTime": {
     "end_time": "2022-07-30T16:38:03.722507Z",
     "start_time": "2022-07-30T15:12:29.316737Z"
    }
   },
   "outputs": [
    {
     "name": "stdout",
     "output_type": "stream",
     "text": [
      "Epoch 1/1000\n",
      "183/183 [==============================] - 85s 330ms/step - loss: 0.3656 - lr: 1.0000e-04\n",
      "Epoch 2/1000\n",
      "183/183 [==============================] - 61s 333ms/step - loss: 0.3656 - lr: 1.0000e-04\n",
      "Epoch 3/1000\n",
      "183/183 [==============================] - 60s 329ms/step - loss: 0.3655 - lr: 1.0000e-04\n",
      "Epoch 4/1000\n",
      "183/183 [==============================] - 60s 330ms/step - loss: 0.3652 - lr: 9.0000e-05\n",
      "Epoch 5/1000\n",
      "183/183 [==============================] - 64s 349ms/step - loss: 0.3651 - lr: 9.0000e-05\n",
      "Epoch 6/1000\n",
      "183/183 [==============================] - 60s 327ms/step - loss: 0.3650 - lr: 9.0000e-05\n",
      "Epoch 7/1000\n",
      "183/183 [==============================] - 60s 330ms/step - loss: 0.3649 - lr: 9.0000e-05\n",
      "Epoch 8/1000\n",
      "183/183 [==============================] - 61s 333ms/step - loss: 0.3649 - lr: 9.0000e-05\n",
      "Epoch 9/1000\n",
      "183/183 [==============================] - 61s 333ms/step - loss: 0.3647 - lr: 8.1000e-05\n",
      "Epoch 10/1000\n",
      "183/183 [==============================] - 61s 331ms/step - loss: 0.3646 - lr: 8.1000e-05\n",
      "Epoch 11/1000\n",
      "183/183 [==============================] - 61s 333ms/step - loss: 0.3645 - lr: 8.1000e-05\n",
      "Epoch 12/1000\n",
      "183/183 [==============================] - 63s 344ms/step - loss: 0.3645 - lr: 8.1000e-05\n",
      "Epoch 13/1000\n",
      "183/183 [==============================] - 61s 333ms/step - loss: 0.3644 - lr: 8.1000e-05\n",
      "Epoch 14/1000\n",
      "183/183 [==============================] - 61s 332ms/step - loss: 0.3642 - lr: 7.2900e-05\n",
      "Epoch 15/1000\n",
      "183/183 [==============================] - 61s 334ms/step - loss: 0.3640 - lr: 7.2900e-05\n",
      "Epoch 16/1000\n",
      "183/183 [==============================] - 61s 334ms/step - loss: 0.3640 - lr: 7.2900e-05\n",
      "Epoch 17/1000\n",
      "183/183 [==============================] - 61s 335ms/step - loss: 0.3639 - lr: 7.2900e-05\n",
      "Epoch 18/1000\n",
      "183/183 [==============================] - 61s 334ms/step - loss: 0.3640 - lr: 7.2900e-05\n",
      "Epoch 19/1000\n",
      "183/183 [==============================] - 61s 336ms/step - loss: 0.3639 - lr: 7.2900e-05\n",
      "Epoch 20/1000\n",
      "183/183 [==============================] - 63s 341ms/step - loss: 0.3638 - lr: 6.5610e-05\n",
      "Epoch 21/1000\n",
      "183/183 [==============================] - 61s 333ms/step - loss: 0.3637 - lr: 6.5610e-05\n",
      "Epoch 22/1000\n",
      "183/183 [==============================] - 61s 334ms/step - loss: 0.3636 - lr: 6.5610e-05\n",
      "Epoch 23/1000\n",
      "183/183 [==============================] - 62s 336ms/step - loss: 0.3636 - lr: 6.5610e-05\n",
      "Epoch 24/1000\n",
      "183/183 [==============================] - 61s 334ms/step - loss: 0.3635 - lr: 6.5610e-05\n",
      "Epoch 25/1000\n",
      "183/183 [==============================] - 61s 332ms/step - loss: 0.3635 - lr: 6.5610e-05\n",
      "Epoch 26/1000\n",
      "183/183 [==============================] - 61s 334ms/step - loss: 0.3634 - lr: 5.9049e-05\n",
      "Epoch 27/1000\n",
      "183/183 [==============================] - 62s 338ms/step - loss: 0.3633 - lr: 5.9049e-05\n",
      "Epoch 28/1000\n",
      "183/183 [==============================] - 61s 334ms/step - loss: 0.3632 - lr: 5.9049e-05\n",
      "Epoch 29/1000\n",
      "183/183 [==============================] - 61s 332ms/step - loss: 0.3632 - lr: 5.9049e-05\n",
      "Epoch 30/1000\n",
      "183/183 [==============================] - 61s 332ms/step - loss: 0.3632 - lr: 5.9049e-05\n",
      "Epoch 31/1000\n",
      "183/183 [==============================] - 61s 335ms/step - loss: 0.3630 - lr: 5.3144e-05\n",
      "Epoch 32/1000\n",
      "183/183 [==============================] - 61s 333ms/step - loss: 0.3629 - lr: 5.3144e-05\n",
      "Epoch 33/1000\n",
      "183/183 [==============================] - 61s 332ms/step - loss: 0.3630 - lr: 5.3144e-05\n",
      "Epoch 34/1000\n",
      "183/183 [==============================] - 61s 334ms/step - loss: 0.3628 - lr: 4.7830e-05\n",
      "Epoch 35/1000\n",
      "183/183 [==============================] - 62s 337ms/step - loss: 0.3627 - lr: 4.7830e-05\n",
      "Epoch 36/1000\n",
      "183/183 [==============================] - 62s 341ms/step - loss: 0.3627 - lr: 4.7830e-05\n",
      "Epoch 37/1000\n",
      "183/183 [==============================] - 61s 334ms/step - loss: 0.3626 - lr: 4.3047e-05\n",
      "Epoch 38/1000\n",
      "183/183 [==============================] - 61s 333ms/step - loss: 0.3626 - lr: 4.3047e-05\n",
      "Epoch 39/1000\n",
      "183/183 [==============================] - 61s 336ms/step - loss: 0.3625 - lr: 4.3047e-05\n",
      "Epoch 40/1000\n",
      "183/183 [==============================] - 61s 333ms/step - loss: 0.3626 - lr: 4.3047e-05\n",
      "Epoch 41/1000\n",
      "183/183 [==============================] - 61s 332ms/step - loss: 0.3625 - lr: 4.3047e-05\n",
      "Epoch 42/1000\n",
      "183/183 [==============================] - 61s 334ms/step - loss: 0.3624 - lr: 3.8742e-05\n",
      "Epoch 43/1000\n",
      "183/183 [==============================] - 61s 336ms/step - loss: 0.3624 - lr: 3.8742e-05\n",
      "Epoch 44/1000\n",
      "183/183 [==============================] - 63s 343ms/step - loss: 0.3623 - lr: 3.8742e-05\n",
      "Epoch 45/1000\n",
      "183/183 [==============================] - 61s 333ms/step - loss: 0.3623 - lr: 3.8742e-05\n",
      "Epoch 46/1000\n",
      "183/183 [==============================] - 61s 332ms/step - loss: 0.3623 - lr: 3.4868e-05\n",
      "Epoch 47/1000\n",
      "183/183 [==============================] - 62s 338ms/step - loss: 0.3622 - lr: 3.4868e-05\n",
      "Epoch 48/1000\n",
      "183/183 [==============================] - 63s 344ms/step - loss: 0.3622 - lr: 3.4868e-05\n",
      "Epoch 49/1000\n",
      "183/183 [==============================] - 62s 338ms/step - loss: 0.3621 - lr: 3.4868e-05\n",
      "Epoch 50/1000\n",
      "183/183 [==============================] - 62s 336ms/step - loss: 0.3622 - lr: 3.4868e-05\n",
      "Epoch 51/1000\n",
      "183/183 [==============================] - 62s 339ms/step - loss: 0.3621 - lr: 3.4868e-05\n",
      "Epoch 52/1000\n",
      "183/183 [==============================] - 63s 342ms/step - loss: 0.3620 - lr: 3.1381e-05\n",
      "Epoch 53/1000\n",
      "183/183 [==============================] - 61s 335ms/step - loss: 0.3620 - lr: 3.1381e-05\n",
      "Epoch 54/1000\n",
      "183/183 [==============================] - 61s 336ms/step - loss: 0.3620 - lr: 3.1381e-05\n",
      "Epoch 55/1000\n",
      "183/183 [==============================] - 62s 339ms/step - loss: 0.3619 - lr: 2.8243e-05\n",
      "Epoch 56/1000\n",
      "183/183 [==============================] - 62s 337ms/step - loss: 0.3619 - lr: 2.8243e-05\n",
      "Epoch 57/1000\n",
      "183/183 [==============================] - 62s 339ms/step - loss: 0.3619 - lr: 2.5419e-05\n",
      "Epoch 58/1000\n",
      "183/183 [==============================] - 62s 339ms/step - loss: 0.3619 - lr: 2.5419e-05\n",
      "Epoch 59/1000\n",
      "183/183 [==============================] - 62s 341ms/step - loss: 0.3619 - lr: 2.5419e-05\n",
      "Epoch 60/1000\n",
      "183/183 [==============================] - 63s 345ms/step - loss: 0.3618 - lr: 2.5419e-05\n",
      "Epoch 61/1000\n",
      "183/183 [==============================] - 62s 339ms/step - loss: 0.3618 - lr: 2.5419e-05\n",
      "Epoch 62/1000\n",
      "183/183 [==============================] - 62s 339ms/step - loss: 0.3618 - lr: 2.5419e-05\n",
      "Epoch 63/1000\n",
      "183/183 [==============================] - 62s 340ms/step - loss: 0.3618 - lr: 2.2877e-05\n",
      "Epoch 64/1000\n",
      "183/183 [==============================] - 62s 337ms/step - loss: 0.3617 - lr: 2.2877e-05\n",
      "Epoch 65/1000\n",
      "183/183 [==============================] - 61s 336ms/step - loss: 0.3617 - lr: 2.0589e-05\n",
      "Epoch 66/1000\n",
      "183/183 [==============================] - 62s 336ms/step - loss: 0.3617 - lr: 2.0589e-05\n",
      "Epoch 67/1000\n",
      "183/183 [==============================] - 62s 340ms/step - loss: 0.3617 - lr: 1.8530e-05\n",
      "Epoch 68/1000\n",
      "183/183 [==============================] - 63s 343ms/step - loss: 0.3616 - lr: 1.8530e-05\n",
      "Epoch 69/1000\n",
      "183/183 [==============================] - 61s 336ms/step - loss: 0.3616 - lr: 1.8530e-05\n",
      "Epoch 70/1000\n",
      "183/183 [==============================] - 62s 337ms/step - loss: 0.3617 - lr: 1.8530e-05\n",
      "Epoch 71/1000\n",
      "183/183 [==============================] - 62s 341ms/step - loss: 0.3616 - lr: 1.6677e-05\n",
      "Epoch 72/1000\n",
      "183/183 [==============================] - 62s 336ms/step - loss: 0.3615 - lr: 1.6677e-05\n",
      "Epoch 73/1000\n",
      "183/183 [==============================] - 62s 337ms/step - loss: 0.3616 - lr: 1.5009e-05\n",
      "Epoch 74/1000\n",
      "183/183 [==============================] - 62s 337ms/step - loss: 0.3615 - lr: 1.5009e-05\n",
      "Epoch 75/1000\n",
      "183/183 [==============================] - 62s 338ms/step - loss: 0.3615 - lr: 1.5009e-05\n",
      "Epoch 76/1000\n",
      "183/183 [==============================] - 63s 344ms/step - loss: 0.3615 - lr: 1.5009e-05\n",
      "Epoch 77/1000\n",
      "183/183 [==============================] - 62s 336ms/step - loss: 0.3615 - lr: 1.3509e-05\n",
      "Epoch 78/1000\n",
      "183/183 [==============================] - 65s 356ms/step - loss: 0.3614 - lr: 1.3509e-05\n",
      "Epoch 79/1000\n",
      "183/183 [==============================] - 62s 337ms/step - loss: 0.3615 - lr: 1.2158e-05\n"
     ]
    },
    {
     "name": "stdout",
     "output_type": "stream",
     "text": [
      "Epoch 80/1000\n",
      "183/183 [==============================] - 61s 333ms/step - loss: 0.3614 - lr: 1.2158e-05\n",
      "Epoch 81/1000\n",
      "183/183 [==============================] - 61s 333ms/step - loss: 0.3614 - lr: 1.2158e-05\n",
      "Epoch 82/1000\n",
      "183/183 [==============================] - 61s 332ms/step - loss: 0.3614 - lr: 1.2158e-05\n",
      "Epoch 83/1000\n",
      "183/183 [==============================] - ETA: 0s - loss: 0.3614Restoring model weights from the end of the best epoch: 80.\n",
      "183/183 [==============================] - 61s 335ms/step - loss: 0.3614 - lr: 1.0942e-05\n",
      "Epoch 83: early stopping\n"
     ]
    }
   ],
   "source": [
    "history = model.fit(gen,\n",
    "                    epochs=epochs,\n",
    "                    callbacks=[\n",
    "                        tf.keras.callbacks.ReduceLROnPlateau(monitor='loss', factor=0.90, patience=2, mode='min'),\n",
    "                        tf.keras.callbacks.EarlyStopping(monitor='loss', patience=3, restore_best_weights=True, mode='min', verbose=1),\n",
    "                        RewriteModelSaveCheckpoint(),\n",
    "                    ])"
   ]
  },
  {
   "attachments": {},
   "cell_type": "markdown",
   "metadata": {},
   "source": [
    "## 绘制训练损失\n",
    "## Plotting the training loss"
   ]
  },
  {
   "cell_type": "code",
   "execution_count": 7,
   "metadata": {
    "ExecuteTime": {
     "end_time": "2022-07-30T16:38:03.956836Z",
     "start_time": "2022-07-30T16:38:03.722507Z"
    }
   },
   "outputs": [
    {
     "data": {
      "image/png": "[encoded data removed]",
      "text/plain": [
       "<Figure size 720x1152 with 1 Axes>"
      ]
     },
     "metadata": {
      "needs_background": "light"
     },
     "output_type": "display_data"
    }
   ],
   "source": [
    "loss = history.history['loss']\n",
    "drawing_train_history('Rewrite', loss)"
   ]
  },
  {
   "attachments": {},
   "cell_type": "markdown",
   "metadata": {},
   "source": [
    "## 保存模型\n",
    "## Saving the model"
   ]
  },
  {
   "cell_type": "code",
   "execution_count": 8,
   "metadata": {
    "ExecuteTime": {
     "end_time": "2022-07-30T16:38:04.144234Z",
     "start_time": "2022-07-30T16:38:03.956836Z"
    }
   },
   "outputs": [],
   "source": [
    "model.save_weights('rewrite.h5')"
   ]
  }
 ],
 "metadata": {
  "hide_input": false,
  "kernelspec": {
   "display_name": "Python 3 (ipykernel)",
   "language": "python",
   "name": "python3"
  },
  "language_info": {
   "codemirror_mode": {
    "name": "ipython",
    "version": 3
   },
   "file_extension": ".py",
   "mimetype": "text/x-python",
   "name": "python",
   "nbconvert_exporter": "python",
   "pygments_lexer": "ipython3",
   "version": "3.9.7"
  },
  "latex_envs": {
   "LaTeX_envs_menu_present": true,
   "autoclose": false,
   "autocomplete": true,
   "bibliofile": "biblio.bib",
   "cite_by": "apalike",
   "current_citInitial": 1,
   "eqLabelWithNumbers": true,
   "eqNumInitial": 1,
   "hotkeys": {
    "equation": "Ctrl-E",
    "itemize": "Ctrl-I"
   },
   "labels_anchors": false,
   "latex_user_defs": false,
   "report_style_numbering": false,
   "user_envs_cfg": false
  },
  "toc": {
   "base_numbering": 1,
   "nav_menu": {},
   "number_sections": true,
   "sideBar": true,
   "skip_h1_title": false,
   "title_cell": "Table of Contents",
   "title_sidebar": "Contents",
   "toc_cell": false,
   "toc_position": {},
   "toc_section_display": true,
   "toc_window_display": false
  },
  "vscode": {
   "interpreter": {
    "hash": "c52302626cefc0a3d8a7dcef2f9b8af2b2cbed612fddde53f56bdae6cc08627a"
   }
  }
 },
 "nbformat": 4,
 "nbformat_minor": 2
}
